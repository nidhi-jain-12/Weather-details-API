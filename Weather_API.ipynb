{
  "nbformat": 4,
  "nbformat_minor": 0,
  "metadata": {
    "colab": {
      "name": "Weather_API.ipynb",
      "provenance": [],
      "collapsed_sections": [],
      "authorship_tag": "ABX9TyNRgbK7aSkvQQiK6N7QYEbR",
      "include_colab_link": true
    },
    "kernelspec": {
      "name": "python3",
      "display_name": "Python 3"
    },
    "language_info": {
      "name": "python"
    }
  },
  "cells": [
    {
      "cell_type": "markdown",
      "metadata": {
        "id": "view-in-github",
        "colab_type": "text"
      },
      "source": [
        "<a href=\"https://colab.research.google.com/github/nidhi-jain-12/Weather-details-API/blob/Main/Weather_API.ipynb\" target=\"_parent\"><img src=\"https://colab.research.google.com/assets/colab-badge.svg\" alt=\"Open In Colab\"/></a>"
      ]
    },
    {
      "cell_type": "code",
      "metadata": {
        "id": "lEQ65eGVjbBY"
      },
      "source": [
        "# Python program to find current\n",
        "# weather details of any city\n",
        "# using Open weather map API"
      ],
      "execution_count": null,
      "outputs": []
    },
    {
      "cell_type": "code",
      "metadata": {
        "colab": {
          "base_uri": "https://localhost:8080/"
        },
        "id": "zWQZNP13kZN0",
        "outputId": "b838754b-4042-4c85-90d8-5c50e028b73c"
      },
      "source": [
        "# import required modules\n",
        "import requests\n",
        "\n",
        "# base_url variable to store url\n",
        "base_url = \"http://api.openweathermap.org/data/2.5/weather?\"\n",
        "\n",
        "print(\"To Know about the current weather details of your city :\\n\")\n",
        "\n",
        "# Enter city name\n",
        "city_name = input(\"Enter city name : \")\n",
        "\n",
        "\n",
        "# Enter your API key here\n",
        "api_key = \"195811ab9d1e77ad962f3d09e5a49973\"\n",
        "\n",
        "# complete_url variable to store\n",
        "# complete url address\n",
        "complete_url = base_url + \"appid=\" + api_key + \"&q=\" + city_name\n",
        "\n",
        "# HTTP request\n",
        "# get method of requests module\n",
        "# return response object\n",
        "response = requests.get(complete_url)\n",
        "\n",
        "# checking the status code of the request\n",
        "if response.status_code == 200:\n",
        "\n",
        "# json method of response object\n",
        "# convert json format data into\n",
        "# python format data\n",
        "   data = response.json()\n",
        "   \n",
        "   #getting location details\n",
        "   #from name and sys dic block\n",
        "   name = data['name']\n",
        "   sys = data['sys']\n",
        "   country=sys['country']\n",
        "      \n",
        "   # getting the main dict block\n",
        "   \n",
        "   main = data['main']\n",
        "   # getting temperature\n",
        "   # store the value corresponding\n",
        "   # to the \"temp\"\n",
        "   \n",
        "   temperature = main['temp']\n",
        "   \n",
        "   #getting max and min temprature\n",
        "   max_temp = main['temp_max']\n",
        "   min_temp = main['temp_min']\n",
        "\n",
        "   # getting the humidity\n",
        "   # store the value corresponding\n",
        "   # to the \"humidity\"\n",
        "   \n",
        "   humidity = main['humidity']\n",
        "   \n",
        "   # getting the pressure\n",
        "   # store the value corresponding\n",
        "   # to the \"pressure\"\n",
        "   \n",
        "   pressure = main['pressure']\n",
        "   \n",
        "   # weather report\n",
        "   # store the value corresponding\n",
        "   # to the \"weather\"\n",
        "   report = data['weather']\n",
        "   \n",
        "   #getting speed of wind\n",
        "   #from wind dic\n",
        "   wind = data['wind']\n",
        "   speed = wind['speed']\n",
        "   nl = '\\n'\n",
        "  \n",
        "   print(f\"{nl}Location : {name} , {country}{nl}\")\n",
        "   print(f\"Temperature: {temperature} °C{nl}\")\n",
        "   print(f\"Min-Max Temperature: {min_temp} °C - {max_temp} °C{nl}\")\n",
        "   print(f\"Humidity: {humidity} %{nl}\")\n",
        "   print(f\"Pressure: {pressure}{nl}\")\n",
        "   print(f\"Weather: {report[0]['description']}{nl}\")\n",
        "   print(f\"Wind : {speed} km/h{nl}\")\n",
        "\n",
        "else:\n",
        "  \n",
        "   # showing the error message\n",
        "   print(\"Error in the HTTP request\")"
      ],
      "execution_count": 2,
      "outputs": [
        {
          "output_type": "stream",
          "text": [
            "To Know about the current weather details of your city :\n",
            "\n",
            "Enter city name : Ahmedabad\n",
            "\n",
            "Location : Ahmedabad , IN\n",
            "\n",
            "Temperature: 307.17 °C\n",
            "\n",
            "Min-Max Temperature: 307.17 °C - 307.17 °C\n",
            "\n",
            "Humidity: 55 %\n",
            "\n",
            "Pressure: 1000\n",
            "\n",
            "Weather: smoke\n",
            "\n",
            "Wind : 6.17 km/h\n",
            "\n"
          ],
          "name": "stdout"
        }
      ]
    }
  ]
}